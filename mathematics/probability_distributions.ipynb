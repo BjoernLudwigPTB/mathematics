{
 "cells": [
  {
   "cell_type": "code",
   "execution_count": null,
   "metadata": {},
   "outputs": [],
   "source": [
    "#%load /home/bjorn/code/mathematics/mathematics/probability_distributions.py\n",
    "from typing import Optional\n",
    "\n",
    "import holoviews as hv\n",
    "import numpy as np\n",
    "from scipy import stats\n",
    "\n",
    "\n",
    "def visualize_dist_by_samples(\n",
    "    size: Optional[int] = 1000,\n",
    "    dist: Optional[stats.rv_continuous] = stats.norm(),\n",
    "    upper_bound: Optional[float] = np.inf,\n",
    "    lower_bound: Optional[float] = -np.inf,\n",
    "    bins: Optional[int] = None,\n",
    "):\n",
    "    \"\"\"Draw the histogram for a number of samples from the given distribution\n",
    "    \n",
    "    Visualize a probability distribution by drawing random samples and creating the\n",
    "    histogram from these samples. It is guaranteed that the specified amound of\n",
    "    samples fall inbetween the specified bounds.\n",
    "\n",
    "    Parameters\n",
    "    ----------\n",
    "\n",
    "        size : int, optional\n",
    "            number of samples to draw from the distribution, defaults to 1000\n",
    "        dist : stats.rv_continuous, otpional\n",
    "            distribution to draw from, defaults to standard normal distribution\n",
    "        lower_bound : float, optional\n",
    "            the lower bound to truncate the underlying distribution at\n",
    "        upper_bound : float, optional\n",
    "            the upper bound to truncate the underlying distribution at\n",
    "        bins : int, optional\n",
    "            number of bins for the histrogram which should be around one percent\n",
    "            of the nummber of samples, which is the default\n",
    "    \n",
    "    Returns\n",
    "    -------\n",
    "\n",
    "        hist : hv.Histogram\n",
    "            the holoviews histogram of the samples\n",
    "    \"\"\"\n",
    "    # We create a histogram based on Bokeh, but could exchange that simply by\n",
    "    # \"matplatlib\".\n",
    "    hv.extension(\"bokeh\")\n",
    "\n",
    "    # Set up the number of bins reasonably.\n",
    "    bins = int(size / 100)\n",
    "\n",
    "    # Draw the first set of samples.\n",
    "    realizations = dist.rvs(size=size)\n",
    "    # Now as long as there are samples outside the desired range, redraw and fill up\n",
    "    # the sample size with valid samples.\n",
    "    while np.count_nonzero(\n",
    "        mask := (realizations < lower_bound) | (realizations > upper_bound)\n",
    "    ):\n",
    "        realizations[mask] = dist.rvs(size=np.count_nonzero(mask))\n",
    "\n",
    "    # Produce the input format for the holoview histogram using the according numpy\n",
    "    # routine.\n",
    "    return hv.Histogram(np.histogram(realizations, bins))\n"
   ]
  },
  {
   "cell_type": "code",
   "execution_count": null,
   "metadata": {},
   "outputs": [],
   "source": [
    "visualize_dist_by_samples(size=6000, lower_bound=-1.5, upper_bound=2.5)\n"
   ]
  },
  {
   "cell_type": "code",
   "execution_count": null,
   "metadata": {},
   "outputs": [],
   "source": []
  }
 ],
 "metadata": {
  "kernelspec": {
   "display_name": "PyCharm (mathematics)",
   "name": "pycharm-c0118cff"
  },
  "language_info": {
   "codemirror_mode": {
    "name": "ipython",
    "version": 3
   },
   "file_extension": ".py",
   "mimetype": "text/x-python",
   "name": "python",
   "nbconvert_exporter": "python",
   "pygments_lexer": "ipython3",
   "version": "3.8.2-final"
  }
 },
 "nbformat": 4,
 "nbformat_minor": 2
}
