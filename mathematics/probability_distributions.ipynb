{
 "cells": [
  {
   "cell_type": "code",
   "execution_count": null,
   "metadata": {},
   "outputs": [],
   "source": [
    "from scipy import stats\n",
    "import holoviews as hv\n",
    "import numpy as np\n",
    "\n",
    "def visualize_gaussian(size:int = 100):\n",
    "    \"\"\"Draw the histogram of samples from the normal distribution\n",
    "    \n",
    "    \"\"\"\n",
    "    hv.extension(\"bokeh\")\n",
    "    \n",
    "    samples = 5000\n",
    "    gaussian_rv = stats.norm()\n",
    "    realizations, bins = np.histogram(gaussian_rv.rvs(size=samples), int(samples/100))\n",
    "\n",
    "    dist = hv.Histogram((bins, realizations))\n",
    "    return dist"
   ]
  },
  {
   "cell_type": "code",
   "execution_count": null,
   "metadata": {},
   "outputs": [],
   "source": [
    "visualize_gaussian()\n"
   ]
  },
  {
   "cell_type": "code",
   "execution_count": null,
   "metadata": {},
   "outputs": [],
   "source": []
  }
 ],
 "metadata": {
  "kernelspec": {
   "display_name": "PyCharm (mathematics)",
   "name": "pycharm-c0118cff"
  },
  "language_info": {
   "codemirror_mode": {
    "name": "ipython",
    "version": 3
   },
   "file_extension": ".py",
   "mimetype": "text/x-python",
   "name": "python",
   "nbconvert_exporter": "python",
   "pygments_lexer": "ipython3",
   "version": "3.8.2-final"
  }
 },
 "nbformat": 4,
 "nbformat_minor": 2
}
