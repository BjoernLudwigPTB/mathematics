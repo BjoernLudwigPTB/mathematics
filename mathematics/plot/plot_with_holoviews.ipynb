{
 "cells": [
  {
   "cell_type": "code",
   "execution_count": null,
   "metadata": {},
   "outputs": [],
   "source": [
    "from typing import Callable\n",
    "\n",
    "import holoviews as hv\n",
    "import numpy as np\n",
    "import plotly\n",
    "import plotly.express as px\n",
    "\n",
    "hv.extension(\"bokeh\")\n",
    "\n",
    "def plot_curve(\n",
    "    func: Callable[[np.ndarray], np.ndarray] = lambda x: 1 + (x - 2) ** 2,\n",
    "    x_min: int = 0,\n",
    "    x_max: int = 5,\n",
    "    renderer: hv.renderer = hv.renderer(\"bokeh\"),\n",
    "):\n",
    "\n",
    "    xs = np.linspace(x_min, x_max, 100)\n",
    "    ys = [func(x) for x in xs]\n",
    "\n",
    "    curve = hv.Curve((xs, ys), \"x\", hv.Dimension(\"f(x)\"), label=\"Graph of f\")\n",
    "\n",
    "    curve.opts(opts.Curve(height=600, width=900, line_width=2.50, tools=[\"hover\"]))\n",
    "\n",
    "    # Create plot and save it as html file. We create the plot depending on the input\n",
    "    # parameter renderer either via bokeh or via plotly.\n",
    "    if renderer == \"bokeh\":\n",
    "        renderer = hv.renderer(\"bokeh\")\n",
    "        # Using renderer save\n",
    "        renderer.save(curve, \"bokeh\")\n",
    "    elif renderer == \"plotly\":\n",
    "        renderer = hv.renderer(\"plotly\").get_plot(curve).state\n",
    "        plotly.offline.plot(renderer, filename=\"plotly.html\")\n",
    "    elif renderer == \"online\":\n",
    "        hv.save(curve, 'browse_me.html', )\n"
   ]
  },
  {
   "cell_type": "code",
   "execution_count": null,
   "metadata": {},
   "outputs": [],
   "source": [
    "plot_curve(renderer=\"online\")"
   ]
  },
  {
   "cell_type": "code",
   "execution_count": null,
   "metadata": {
    "pycharm": {
     "name": "#%%\n"
    }
   },
   "outputs": [],
   "source": [
    "plot_curve(renderer=\"bokeh\")"
   ]
  },
  {
   "cell_type": "code",
   "execution_count": null,
   "metadata": {},
   "outputs": [],
   "source": [
    "plot_curve(renderer=\"plotly\")"
   ]
  },
  {
   "cell_type": "code",
   "execution_count": null,
   "metadata": {},
   "outputs": [],
   "source": [
    "\n",
    "hv.extension(\"plotly\")\n",
    "\n",
    "gapminder = px.data.gapminder().query(\"year==2007\")\n",
    "fig = hv.Scatter(gapminder, \"gdpPercap\", \"lifeExp\")\n",
    "fig.opts(logx=True, xlim=(2.2,5), ylim=(35, 85), sizemin=5, size=gapminder[\"pop\"]/gapminder[\"pop\"].max()*40)\n"
   ]
  },
  {
   "cell_type": "code",
   "execution_count": null,
   "metadata": {},
   "outputs": [],
   "source": []
  }
 ],
 "metadata": {
  "kernelspec": {
   "display_name": "PyCharm (mathematics)",
   "language": "python",
   "name": "pycharm-c0118cff"
  },
  "language_info": {
   "codemirror_mode": {
    "name": "ipython",
    "version": 3
   },
   "file_extension": ".py",
   "mimetype": "text/x-python",
   "name": "python",
   "nbconvert_exporter": "python",
   "pygments_lexer": "ipython3",
   "version": "3.8.2-final"
  }
 },
 "nbformat": 4,
 "nbformat_minor": 1
}
